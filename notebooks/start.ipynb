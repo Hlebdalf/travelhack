{
 "cells": [
  {
   "cell_type": "code",
   "execution_count": 1,
   "id": "collectible-active",
   "metadata": {
    "ExecuteTime": {
     "end_time": "2021-03-27T08:10:28.386195Z",
     "start_time": "2021-03-27T08:10:28.264788Z"
    }
   },
   "outputs": [
    {
     "name": "stdout",
     "output_type": "stream",
     "text": [
      "data-full.csv  data-full.xlsx dataset.xlsx\r\n"
     ]
    }
   ],
   "source": [
    "!ls data"
   ]
  },
  {
   "cell_type": "code",
   "execution_count": 4,
   "id": "visible-raise",
   "metadata": {
    "ExecuteTime": {
     "end_time": "2021-03-27T08:10:36.599738Z",
     "start_time": "2021-03-27T08:10:35.601381Z"
    }
   },
   "outputs": [],
   "source": [
    "import pandas as pd\n",
    "\n",
    "df = pd.read_csv(\"data/data-full.csv\", index_col=0)"
   ]
  },
  {
   "cell_type": "code",
   "execution_count": 5,
   "id": "sound-generator",
   "metadata": {
    "ExecuteTime": {
     "end_time": "2021-03-27T08:10:36.988223Z",
     "start_time": "2021-03-27T08:10:36.964085Z"
    }
   },
   "outputs": [
    {
     "data": {
      "text/html": [
       "<div>\n",
       "<style scoped>\n",
       "    .dataframe tbody tr th:only-of-type {\n",
       "        vertical-align: middle;\n",
       "    }\n",
       "\n",
       "    .dataframe tbody tr th {\n",
       "        vertical-align: top;\n",
       "    }\n",
       "\n",
       "    .dataframe thead th {\n",
       "        text-align: right;\n",
       "    }\n",
       "</style>\n",
       "<table border=\"1\" class=\"dataframe\">\n",
       "  <thead>\n",
       "    <tr style=\"text-align: right;\">\n",
       "      <th></th>\n",
       "      <th>Пол</th>\n",
       "      <th>День рождения</th>\n",
       "      <th>Возраст клиента</th>\n",
       "      <th>Заявка №</th>\n",
       "      <th>Дата бронирования</th>\n",
       "      <th>Дата начала тура</th>\n",
       "      <th>Год</th>\n",
       "      <th>Ночей</th>\n",
       "      <th>Вид тура</th>\n",
       "      <th>Тип заявки</th>\n",
       "      <th>...</th>\n",
       "      <th>Младенцы</th>\n",
       "      <th>Звездность</th>\n",
       "      <th>Состав группы (Заявка) (Заявка)</th>\n",
       "      <th>Сумма в $</th>\n",
       "      <th>Наименование тура</th>\n",
       "      <th>ИД клиента</th>\n",
       "      <th>Глубина продаж</th>\n",
       "      <th>Тип питания</th>\n",
       "      <th>Город Отеля</th>\n",
       "      <th>Город отправления</th>\n",
       "    </tr>\n",
       "  </thead>\n",
       "  <tbody>\n",
       "    <tr>\n",
       "      <th>0</th>\n",
       "      <td>мужской</td>\n",
       "      <td>2018-08-28 00:00:00</td>\n",
       "      <td>2.0</td>\n",
       "      <td>4803671</td>\n",
       "      <td>2021-02-07 20:44:00</td>\n",
       "      <td>2021-05-04 00:00:00</td>\n",
       "      <td>2021</td>\n",
       "      <td>12</td>\n",
       "      <td>Пляжный отдых</td>\n",
       "      <td>Пакет</td>\n",
       "      <td>...</td>\n",
       "      <td>0</td>\n",
       "      <td>4*</td>\n",
       "      <td>Семья</td>\n",
       "      <td>1718.64</td>\n",
       "      <td>Turkey Antalya LED</td>\n",
       "      <td>4197428</td>\n",
       "      <td>85.136111</td>\n",
       "      <td>All Inclusive</td>\n",
       "      <td>NaN</td>\n",
       "      <td>Санкт-Петербург</td>\n",
       "    </tr>\n",
       "    <tr>\n",
       "      <th>1</th>\n",
       "      <td>мужской</td>\n",
       "      <td>1991-04-25 00:00:00</td>\n",
       "      <td>29.0</td>\n",
       "      <td>4803671</td>\n",
       "      <td>2021-02-07 20:44:00</td>\n",
       "      <td>2021-05-04 00:00:00</td>\n",
       "      <td>2021</td>\n",
       "      <td>12</td>\n",
       "      <td>Пляжный отдых</td>\n",
       "      <td>Пакет</td>\n",
       "      <td>...</td>\n",
       "      <td>0</td>\n",
       "      <td>4*</td>\n",
       "      <td>Семья</td>\n",
       "      <td>1718.64</td>\n",
       "      <td>Turkey Antalya LED</td>\n",
       "      <td>4197429</td>\n",
       "      <td>85.136111</td>\n",
       "      <td>All Inclusive</td>\n",
       "      <td>NaN</td>\n",
       "      <td>Санкт-Петербург</td>\n",
       "    </tr>\n",
       "    <tr>\n",
       "      <th>2</th>\n",
       "      <td>мужской</td>\n",
       "      <td>1980-11-05 00:00:00</td>\n",
       "      <td>40.0</td>\n",
       "      <td>4803915</td>\n",
       "      <td>2021-02-08 09:03:00</td>\n",
       "      <td>2021-03-04 00:00:00</td>\n",
       "      <td>2021</td>\n",
       "      <td>6</td>\n",
       "      <td>Пляжный отдых</td>\n",
       "      <td>Пакет</td>\n",
       "      <td>...</td>\n",
       "      <td>0</td>\n",
       "      <td>5*</td>\n",
       "      <td>Семья</td>\n",
       "      <td>948.45</td>\n",
       "      <td>Turkey Antalya MOW</td>\n",
       "      <td>4197517</td>\n",
       "      <td>23.622917</td>\n",
       "      <td>AIP</td>\n",
       "      <td>Боазкент</td>\n",
       "      <td>Москва</td>\n",
       "    </tr>\n",
       "    <tr>\n",
       "      <th>3</th>\n",
       "      <td>мужской</td>\n",
       "      <td>2013-02-27 00:00:00</td>\n",
       "      <td>8.0</td>\n",
       "      <td>4806034</td>\n",
       "      <td>2021-02-08 19:46:00</td>\n",
       "      <td>2021-10-09 00:00:00</td>\n",
       "      <td>2021</td>\n",
       "      <td>11</td>\n",
       "      <td>Пляжный отдых</td>\n",
       "      <td>Пакет</td>\n",
       "      <td>...</td>\n",
       "      <td>0</td>\n",
       "      <td>5*</td>\n",
       "      <td>Семья</td>\n",
       "      <td>2128.15</td>\n",
       "      <td>Turkey Antalya MOW</td>\n",
       "      <td>4197718</td>\n",
       "      <td>242.176389</td>\n",
       "      <td>UAI</td>\n",
       "      <td>Текирова</td>\n",
       "      <td>Москва</td>\n",
       "    </tr>\n",
       "    <tr>\n",
       "      <th>4</th>\n",
       "      <td>мужской</td>\n",
       "      <td>1968-10-06 00:00:00</td>\n",
       "      <td>52.0</td>\n",
       "      <td>4806034</td>\n",
       "      <td>2021-02-08 19:46:00</td>\n",
       "      <td>2021-10-09 00:00:00</td>\n",
       "      <td>2021</td>\n",
       "      <td>11</td>\n",
       "      <td>Пляжный отдых</td>\n",
       "      <td>Пакет</td>\n",
       "      <td>...</td>\n",
       "      <td>0</td>\n",
       "      <td>5*</td>\n",
       "      <td>Семья</td>\n",
       "      <td>2128.15</td>\n",
       "      <td>Turkey Antalya MOW</td>\n",
       "      <td>4197719</td>\n",
       "      <td>242.176389</td>\n",
       "      <td>UAI</td>\n",
       "      <td>Текирова</td>\n",
       "      <td>Москва</td>\n",
       "    </tr>\n",
       "  </tbody>\n",
       "</table>\n",
       "<p>5 rows × 25 columns</p>\n",
       "</div>"
      ],
      "text/plain": [
       "       Пол        День рождения  Возраст клиента  Заявка №   \\\n",
       "0  мужской  2018-08-28 00:00:00              2.0    4803671   \n",
       "1  мужской  1991-04-25 00:00:00             29.0    4803671   \n",
       "2  мужской  1980-11-05 00:00:00             40.0    4803915   \n",
       "3  мужской  2013-02-27 00:00:00              8.0    4806034   \n",
       "4  мужской  1968-10-06 00:00:00             52.0    4806034   \n",
       "\n",
       "     Дата бронирования     Дата начала тура   Год  Ночей       Вид тура  \\\n",
       "0  2021-02-07 20:44:00  2021-05-04 00:00:00  2021     12  Пляжный отдых   \n",
       "1  2021-02-07 20:44:00  2021-05-04 00:00:00  2021     12  Пляжный отдых   \n",
       "2  2021-02-08 09:03:00  2021-03-04 00:00:00  2021      6  Пляжный отдых   \n",
       "3  2021-02-08 19:46:00  2021-10-09 00:00:00  2021     11  Пляжный отдых   \n",
       "4  2021-02-08 19:46:00  2021-10-09 00:00:00  2021     11  Пляжный отдых   \n",
       "\n",
       "  Тип заявки  ... Младенцы Звездность  Состав группы (Заявка) (Заявка)  \\\n",
       "0      Пакет  ...        0         4*                            Семья   \n",
       "1      Пакет  ...        0         4*                            Семья   \n",
       "2      Пакет  ...        0         5*                            Семья   \n",
       "3      Пакет  ...        0         5*                            Семья   \n",
       "4      Пакет  ...        0         5*                            Семья   \n",
       "\n",
       "   Сумма в $   Наименование тура  ИД клиента Глубина продаж    Тип питания  \\\n",
       "0    1718.64  Turkey Antalya LED     4197428      85.136111  All Inclusive   \n",
       "1    1718.64  Turkey Antalya LED     4197429      85.136111  All Inclusive   \n",
       "2     948.45  Turkey Antalya MOW     4197517      23.622917            AIP   \n",
       "3    2128.15  Turkey Antalya MOW     4197718     242.176389            UAI   \n",
       "4    2128.15  Turkey Antalya MOW     4197719     242.176389            UAI   \n",
       "\n",
       "   Город Отеля Город отправления  \n",
       "0          NaN   Санкт-Петербург  \n",
       "1          NaN   Санкт-Петербург  \n",
       "2     Боазкент            Москва  \n",
       "3     Текирова            Москва  \n",
       "4     Текирова            Москва  \n",
       "\n",
       "[5 rows x 25 columns]"
      ]
     },
     "execution_count": 5,
     "metadata": {},
     "output_type": "execute_result"
    }
   ],
   "source": [
    "df.head()"
   ]
  },
  {
   "cell_type": "code",
   "execution_count": 6,
   "id": "arctic-memorial",
   "metadata": {
    "ExecuteTime": {
     "end_time": "2021-03-27T08:10:41.767533Z",
     "start_time": "2021-03-27T08:10:41.761332Z"
    }
   },
   "outputs": [
    {
     "data": {
      "text/plain": [
       "Пол                                 object\n",
       "День рождения                       object\n",
       "Возраст клиента                    float64\n",
       "Заявка №                             int64\n",
       "Дата бронирования                   object\n",
       "Дата начала тура                    object\n",
       "Год                                  int64\n",
       "Ночей                                int64\n",
       "Вид тура                            object\n",
       "Тип заявки                          object\n",
       "Страна тура                         object\n",
       "Регион отеля                        object\n",
       "Туристов                             int64\n",
       "Туристы, взрослые                    int64\n",
       "Туристы, дети                        int64\n",
       "Младенцы                             int64\n",
       "Звездность                          object\n",
       "Состав группы (Заявка) (Заявка)     object\n",
       "Сумма в $                          float64\n",
       "Наименование тура                   object\n",
       "ИД клиента                           int64\n",
       "Глубина продаж                     float64\n",
       "Тип питания                         object\n",
       "Город Отеля                         object\n",
       "Город отправления                   object\n",
       "dtype: object"
      ]
     },
     "execution_count": 6,
     "metadata": {},
     "output_type": "execute_result"
    }
   ],
   "source": [
    "df.dtypes"
   ]
  },
  {
   "cell_type": "code",
   "execution_count": 27,
   "id": "precious-overall",
   "metadata": {
    "ExecuteTime": {
     "end_time": "2021-03-27T13:10:56.758204Z",
     "start_time": "2021-03-27T13:09:57.621332Z"
    }
   },
   "outputs": [
    {
     "data": {
      "application/vnd.jupyter.widget-view+json": {
       "model_id": "657b0d7e003c4ea6afc42d0aaf7ba2c4",
       "version_major": 2,
       "version_minor": 0
      },
      "text/plain": [
       "Summarize dataset:   0%|          | 0/38 [00:00<?, ?it/s]"
      ]
     },
     "metadata": {},
     "output_type": "display_data"
    },
    {
     "name": "stderr",
     "output_type": "stream",
     "text": [
      "/Users/u17485588/Library/Caches/pypoetry/virtualenvs/travelhack-zzJLGS5o-py3.9/lib/python3.9/site-packages/scipy/stats/stats.py:4594: RuntimeWarning: overflow encountered in long_scalars\n",
      "  (2 * xtie * ytie) / m + x0 * y0 / (9 * m * (size - 2)))\n"
     ]
    },
    {
     "data": {
      "application/vnd.jupyter.widget-view+json": {
       "model_id": "bd9af537a5894a3494609d69360c0ce7",
       "version_major": 2,
       "version_minor": 0
      },
      "text/plain": [
       "Generate report structure:   0%|          | 0/1 [00:00<?, ?it/s]"
      ]
     },
     "metadata": {},
     "output_type": "display_data"
    },
    {
     "data": {
      "application/vnd.jupyter.widget-view+json": {
       "model_id": "491a036c4944466abf3e3c93701746d2",
       "version_major": 2,
       "version_minor": 0
      },
      "text/plain": [
       "Render HTML:   0%|          | 0/1 [00:00<?, ?it/s]"
      ]
     },
     "metadata": {},
     "output_type": "display_data"
    },
    {
     "data": {
      "application/vnd.jupyter.widget-view+json": {
       "model_id": "e9e454bde07240c2b7a7939959f73e68",
       "version_major": 2,
       "version_minor": 0
      },
      "text/plain": [
       "Export report to file:   0%|          | 0/1 [00:00<?, ?it/s]"
      ]
     },
     "metadata": {},
     "output_type": "display_data"
    }
   ],
   "source": [
    "from pandas_profiling import ProfileReport\n",
    "\n",
    "profile = ProfileReport(df, title=\"Задача 6. Profile report\")\n",
    "profile.to_file(\"pandas-profile-data-sample.html\")"
   ]
  },
  {
   "cell_type": "code",
   "execution_count": 19,
   "id": "secondary-timer",
   "metadata": {
    "ExecuteTime": {
     "end_time": "2021-03-27T08:47:59.907609Z",
     "start_time": "2021-03-27T08:47:59.902498Z"
    }
   },
   "outputs": [
    {
     "data": {
      "text/plain": [
       "0         2021-05-04 00:00:00\n",
       "1         2021-05-04 00:00:00\n",
       "2         2021-03-04 00:00:00\n",
       "3         2021-10-09 00:00:00\n",
       "4         2021-10-09 00:00:00\n",
       "                 ...         \n",
       "209604    2021-04-26 00:00:00\n",
       "209605    2021-07-09 00:00:00\n",
       "209606    2021-05-01 00:00:00\n",
       "209607    2020-09-06 00:00:00\n",
       "209608    2021-07-24 00:00:00\n",
       "Name: Дата начала тура, Length: 209609, dtype: object"
      ]
     },
     "execution_count": 19,
     "metadata": {},
     "output_type": "execute_result"
    }
   ],
   "source": [
    "df[\"Дата начала тура\"]"
   ]
  },
  {
   "cell_type": "code",
   "execution_count": 25,
   "id": "loved-arrow",
   "metadata": {
    "ExecuteTime": {
     "end_time": "2021-03-27T08:48:54.605925Z",
     "start_time": "2021-03-27T08:48:54.568340Z"
    }
   },
   "outputs": [
    {
     "data": {
      "text/plain": [
       "Timestamp('2017-10-27 00:00:00')"
      ]
     },
     "execution_count": 25,
     "metadata": {},
     "output_type": "execute_result"
    }
   ],
   "source": [
    "pd.to_datetime(df[\"Дата начала тура\"], infer_datetime_format=True).min()"
   ]
  },
  {
   "cell_type": "code",
   "execution_count": 26,
   "id": "intensive-quantity",
   "metadata": {
    "ExecuteTime": {
     "end_time": "2021-03-27T08:49:00.070785Z",
     "start_time": "2021-03-27T08:49:00.032231Z"
    }
   },
   "outputs": [
    {
     "data": {
      "text/plain": [
       "Timestamp('2022-04-13 00:00:00')"
      ]
     },
     "execution_count": 26,
     "metadata": {},
     "output_type": "execute_result"
    }
   ],
   "source": [
    "pd.to_datetime(df[\"Дата начала тура\"], infer_datetime_format=True).max()"
   ]
  },
  {
   "cell_type": "code",
   "execution_count": null,
   "id": "seasonal-method",
   "metadata": {},
   "outputs": [],
   "source": [
    "df[\"Дата начала тура\"]"
   ]
  }
 ],
 "metadata": {
  "kernelspec": {
   "display_name": "Python 3",
   "language": "python",
   "name": "python3"
  },
  "language_info": {
   "codemirror_mode": {
    "name": "ipython",
    "version": 3
   },
   "file_extension": ".py",
   "mimetype": "text/x-python",
   "name": "python",
   "nbconvert_exporter": "python",
   "pygments_lexer": "ipython3",
   "version": "3.9.1"
  }
 },
 "nbformat": 4,
 "nbformat_minor": 5
}
